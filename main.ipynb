{
 "cells": [
  {
   "cell_type": "code",
   "execution_count": 5,
   "metadata": {},
   "outputs": [],
   "source": [
    "# This Python 3 environment comes with many import pandas as pd\n",
    "import numpy as np\n",
    "import gc \n",
    "import pandas as pd\n",
    "import optuna\n",
    "from xgboost import XGBClassifier\n",
    "from lightgbm import LGBMClassifier\n",
    "from catboost import CatBoostClassifier\n",
    "from sklearn.preprocessing import LabelEncoder\n",
    "from tqdm import tqdm\n",
    "from sklearn.metrics import roc_auc_score, accuracy_score\n",
    "from sklearn.model_selection import StratifiedKFold, train_test_split\n",
    "from sklearn.ensemble import VotingClassifier\n",
    "\n",
    "import random\n",
    "random.seed(42)\n",
    "np.random.seed(42)"
   ]
  },
  {
   "cell_type": "code",
   "execution_count": 6,
   "metadata": {},
   "outputs": [],
   "source": [
    "target_col = \"churn\""
   ]
  },
  {
   "cell_type": "code",
   "execution_count": 7,
   "metadata": {},
   "outputs": [],
   "source": [
    "def get_features(df):\n",
    "    df = df.drop(['slctn_nmbr','postal_code', 'phone_number', 'email'], axis=1)\n",
    "    df['region'] = LabelEncoder().fit_transform(df[\"region\"])\n",
    "    df = df.drop_duplicates()\n",
    "    df['id_'] = df['quarter'] + df['npo_account_id']\n",
    "    df = df.drop_duplicates(\"id_\")\n",
    "    \n",
    "    df['lst_pmnt_date_per_qrtr'] = pd.to_datetime(df['lst_pmnt_date_per_qrtr'])\n",
    "    df['lst_pmnt_date_per_qrtr_day'] = df['lst_pmnt_date_per_qrtr'].dt.day\n",
    "    df['lst_pmnt_date_per_qrtr_month'] = df['lst_pmnt_date_per_qrtr'].dt.month\n",
    "    df['lst_pmnt_date_per_qrtr_year'] = df['lst_pmnt_date_per_qrtr'].dt.year\n",
    "    df['day_sum1'] = df['lst_pmnt_date_per_qrtr_month']*30+df['lst_pmnt_date_per_qrtr_day']\n",
    "    df['quarter1'] = LabelEncoder().fit_transform(df[\"quarter\"].copy())\n",
    "    \n",
    "    col = ['balance', 'oprtn_sum_per_qrtr', 'oprtn_sum_per_year', 'pmnts_sum', 'incm_per_year',\n",
    "    'pmnts_nmbr', 'pmnts_sum_per_qrtr', 'pmnts_sum_per_year', 'pmnts_nmbr_per_qrtr', 'pmnts_nmbr_per_year', 'incm_sum', 'incm_per_qrtr']\n",
    "\n",
    "    for c in tqdm(col):\n",
    "        data1 = df.groupby('npo_account_id')[c].mean().reset_index()\n",
    "        data1.columns = ['npo_account_id', f'{c}_quarter']\n",
    "        df = pd.merge(df, data1, on='npo_account_id', how='left')\n",
    "        \n",
    "    data1 = df.groupby('npo_account_id')[\"quarter\"].nunique().reset_index()\n",
    "    data1.columns = ['npo_account_id', f'quarter_size']\n",
    "    df = pd.merge(df, data1, on='npo_account_id', how='left')\n",
    "    df['quartal'] = df['quarter'].str[-1].astype('int32')\n",
    "    return df"
   ]
  },
  {
   "cell_type": "code",
   "execution_count": 11,
   "metadata": {},
   "outputs": [
    {
     "name": "stderr",
     "output_type": "stream",
     "text": [
      "100%|██████████| 12/12 [00:48<00:00,  4.01s/it]\n"
     ]
    }
   ],
   "source": [
    "df = pd.read_parquet(\"C:/Users/Andrey/Documents/Ml/train.parquet\")\n",
    "df = get_features(df)"
   ]
  },
  {
   "cell_type": "code",
   "execution_count": null,
   "metadata": {},
   "outputs": [],
   "source": [
    "X = df.drop(columns=[target_col, 'id_', 'client_id', 'npo_account_id', 'quarter',\n",
    "    'lst_pmnt_date_per_qrtr', 'frst_pmnt_date', 'quarter']).values \n",
    "y = df[target_col].values\n",
    "X_train, X_test, y_train, y_test = train_test_split(X, y, test_size=0.5)"
   ]
  },
  {
   "cell_type": "code",
   "execution_count": null,
   "metadata": {},
   "outputs": [],
   "source": [
    "'''def objective(trial):\n",
    "    params = {\n",
    "        'device':'gpu',\n",
    "        'objective': 'binary',\n",
    "        'metric': 'binary_logloss',\n",
    "        'verbosity': 1,\n",
    "        'boosting_type': 'gbdt',\n",
    "        'max_depth': trial.suggest_int('max_depth', 6, 20),\n",
    "        'min_child_samples': trial.suggest_int('min_child_samples', 1, 100),\n",
    "        'min_child_weight': trial.suggest_float('min_child_weight', 1e-4, 1),\n",
    "        'n_estimators': 50,\n",
    "        'num_leaves ': trial.suggest_int('num_leaves', 3, 100)\n",
    "    }\n",
    "    model = LGBMClassifier(**params)\n",
    "    model.fit(X_train, y_train)\n",
    "    y_pred = model.predict(X_test)\n",
    "    score = accuracy_score(y_test, y_pred)\n",
    "    return score\n",
    "\n",
    "study = optuna.create_study(direction='maximize')\n",
    "study.optimize(objective, n_trials=200)\n",
    "print(study.best_params)\n",
    "print(study.best_value)\n",
    "'''"
   ]
  },
  {
   "cell_type": "code",
   "execution_count": null,
   "metadata": {},
   "outputs": [],
   "source": [
    "models = []\n",
    "score_list_acc = []\n",
    "score_list_auc = []\n",
    "strat_kfold = StratifiedKFold(n_splits=5, shuffle=True, random_state=42)\n",
    "\n",
    "for train_index, valid_index in strat_kfold.split(X, y): \n",
    "    X_train, X_val = X[train_index], X[valid_index]\n",
    "    y_train, y_val = y[train_index], y[valid_index]\n",
    "    \n",
    "    # 1500\n",
    "    lgb_params = {'max_depth': 18, 'min_child_samples': 96, 'min_child_weight': 0.13310829983031214, 'num_leaves': 85,\n",
    "                  'n_estimators':2350, 'device':'gpu', 'boosting_type': 'gbdt'}\n",
    "    lgb = LGBMClassifier(**lgb_params)\n",
    "    cat = CatBoostClassifier(iterations=5000, verbose=100, random_state=42, task_type=\"GPU\", devices='0')#3000\n",
    "    model = VotingClassifier(estimators=[('catboost', cat), ('lgbm', lgb)], voting='soft')\n",
    "    model.fit(X_train, y_train)\n",
    "    predict = model.predict_proba(X_val)[:, 1]\n",
    "    models.append(model)\n",
    "    \n",
    "    score_list_auc.append(roc_auc_score(y_val, predict))\n",
    "    score_list_acc.append(accuracy_score(y_val, np.round(predict)))\n",
    "    \n",
    "    print('roc_auc_score', roc_auc_score(y_val, predict))\n",
    "    print('accuracy_score', accuracy_score(y_val, np.round(predict)))\n",
    "    print()\n",
    "    break\n",
    "    \n",
    "print('roc_auc_score', np.mean(score_list_auc))\n",
    "print('accuracy_score', np.mean(score_list_acc))\n",
    "\n",
    "# iter = 1200\n",
    "#roc_auc_score 0.9967203256838154\n",
    "#accuracy_score 0.9953078990898689\n",
    "\n",
    "# iter = 1500\n",
    "#roc_auc_score 0.9969534858449924\n",
    "#accuracy_score 0.9954274661400886\n",
    "\n",
    "#roc_auc_score 0.9984288345924386\n",
    "#accuracy_score 0.9963405236144924\n",
    "\n",
    "#quartal+\n",
    "#roc_auc_score 0.9984746575073541\n",
    "#accuracy_score 0.9963795431646806\n",
    "\n",
    "#roc_auc_score 0.9984746575073541\n",
    "#accuracy_score 0.9963795431646806\n",
    "\n",
    "#ensemble+\n",
    "#roc_auc_score 0.9981023210843869\n",
    "#accuracy_score 0.9967850677755651\n",
    "\n",
    "#roc_auc_score 0.9981023210843869\n",
    "#accuracy_score 0.9967850677755651"
   ]
  },
  {
   "cell_type": "code",
   "execution_count": null,
   "metadata": {},
   "outputs": [],
   "source": [
    "predict = model.predict_proba(X)[:, 1]\n",
    "predidct_dataframe = df[[\"\",\"quartal\", \"npo_account_id\"]]\n",
    "predidct_dataframe['predict'] = predict\n",
    "predidct_dataframe.to_csv(\"train_predict.csv\")"
   ]
  },
  {
   "cell_type": "code",
   "execution_count": null,
   "metadata": {},
   "outputs": [],
   "source": [
    "def predict_one_npo_account_id(test_data, npo_account_id, impo=False):\n",
    "    \"\"\"\n",
    "    Возращает для всех определенного  пользователя вероятности\n",
    "     impo возращать веротяности или False=нет\n",
    "    \"\"\"\n",
    "    col = ['npo_accnts_nmbr', 'pmnts_type', 'year', 'gender', 'age',\n",
    "       'clnt_cprtn_time_d', 'actv_prd_d', 'lst_pmnt_rcnc_d', 'balance',\n",
    "       'oprtn_sum_per_qrtr', 'oprtn_sum_per_year', 'frst_pmnt', 'lst_pmnt',\n",
    "       'pmnts_sum', 'pmnts_nmbr', 'pmnts_sum_per_qrtr', 'pmnts_sum_per_year',\n",
    "       'pmnts_nmbr_per_qrtr', 'pmnts_nmbr_per_year', 'incm_sum',\n",
    "       'incm_per_qrtr', 'incm_per_year', 'mgd_accum_period',\n",
    "       'mgd_payment_period', 'lk', 'assignee_npo', 'assignee_ops', 'region',\n",
    "       'citizen', 'fact_addrss', 'appl_mrkr', 'evry_qrtr_pmnt',\n",
    "       'lst_pmnt_date_per_qrtr_day', 'lst_pmnt_date_per_qrtr_month',\n",
    "       'lst_pmnt_date_per_qrtr_year', 'day_sum1', 'quarter1',\n",
    "       'balance_quarter', 'oprtn_sum_per_qrtr_quarter',\n",
    "       'oprtn_sum_per_year_quarter', 'pmnts_sum_quarter',\n",
    "       'incm_per_year_quarter', 'pmnts_nmbr_quarter',\n",
    "       'pmnts_sum_per_qrtr_quarter', 'pmnts_sum_per_year_quarter',\n",
    "       'pmnts_nmbr_per_qrtr_quarter', 'pmnts_nmbr_per_year_quarter',\n",
    "       'incm_sum_quarter', 'incm_per_qrtr_quarter', 'quarter_size']\n",
    "    \n",
    "    test_data = test_data.loc[(test_data.npo_account_id==npo_account_id)]\n",
    "    \n",
    "    if impo:\n",
    "        predict = model.predict_proba(test_data[col].values)[:, 1]\n",
    "    else:\n",
    "        predict = model.predict(test_data[col].values)\n",
    "        \n",
    "    predidct_dataframe = test_data[[\"quarter\", \"npo_account_id\"]]\n",
    "    predidct_dataframe['predict'] = predict\n",
    "    return predidct_dataframe"
   ]
  },
  {
   "cell_type": "code",
   "execution_count": null,
   "metadata": {},
   "outputs": [],
   "source": [
    "predidct_dataframe.loc[predidct_dataframe.npo_account_id==\"0x9DADF88CB3407C4E89403315F640393E\"]"
   ]
  },
  {
   "cell_type": "code",
   "execution_count": null,
   "metadata": {},
   "outputs": [],
   "source": [
    "import seaborn as sns\n",
    "sns.lineplot(predidct_dataframe.loc[predidct_dataframe.npo_account_id==\"0x9DADF88CB3407C4E89403315F640393E\"].predict)"
   ]
  }
 ],
 "metadata": {
  "kernelspec": {
   "display_name": "Python 3",
   "language": "python",
   "name": "python3"
  },
  "language_info": {
   "codemirror_mode": {
    "name": "ipython",
    "version": 3
   },
   "file_extension": ".py",
   "mimetype": "text/x-python",
   "name": "python",
   "nbconvert_exporter": "python",
   "pygments_lexer": "ipython3",
   "version": "3.12.3"
  }
 },
 "nbformat": 4,
 "nbformat_minor": 2
}
